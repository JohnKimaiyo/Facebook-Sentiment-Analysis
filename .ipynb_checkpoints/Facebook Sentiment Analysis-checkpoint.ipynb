{
 "cells": [
  {
   "cell_type": "code",
   "execution_count": null,
   "id": "4d572383",
   "metadata": {},
   "outputs": [],
   "source": [
    "\n",
    "\n",
    "\n",
    "\n",
    "\n",
    "EAAFv7ONCTtABO39YYp0avgaQqRXKlZB5ZCZCNg42ctQXbrzrCZCMKZCto215odZBBrlD56PxrlBt4OSTmVS0gD59WgryddODvK8QdCM2O5pKdoDaB2SHYCPUsHg7i7BmZCJ4n8ZBfSGC1xfZBqM0w8Cz8qmB2QjAoc9VbcSZClUt3MW4wy7XWm7EThMneKxHqdA6G14Sywb6WsWNmOS4AZANyMjZBqCViy6vgIsE9zHAQ4ZCESNKv6QJPiWfAoO4gxmajrRYZD"
   ]
  }
 ],
 "metadata": {
  "kernelspec": {
   "display_name": "Python 3 (ipykernel)",
   "language": "python",
   "name": "python3"
  },
  "language_info": {
   "codemirror_mode": {
    "name": "ipython",
    "version": 3
   },
   "file_extension": ".py",
   "mimetype": "text/x-python",
   "name": "python",
   "nbconvert_exporter": "python",
   "pygments_lexer": "ipython3",
   "version": "3.11.4"
  }
 },
 "nbformat": 4,
 "nbformat_minor": 5
}
